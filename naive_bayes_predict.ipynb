{
 "cells": [
  {
   "cell_type": "code",
   "execution_count": 50,
   "metadata": {},
   "outputs": [],
   "source": [
    "import os\n",
    "import shutil\n",
    "import re\n",
    "import numpy as np\n",
    "from collections import defaultdict\n",
    "from operator import itemgetter"
   ]
  },
  {
   "cell_type": "code",
   "execution_count": 10,
   "metadata": {},
   "outputs": [],
   "source": [
    "filenames = ['./models/part-00000.txt', './models/part-00001.txt']"
   ]
  },
  {
   "cell_type": "code",
   "execution_count": 11,
   "metadata": {},
   "outputs": [],
   "source": [
    "word_search_re = re.compile(r\"[\\w']+\")"
   ]
  },
  {
   "cell_type": "code",
   "execution_count": 12,
   "metadata": {},
   "outputs": [],
   "source": [
    "def load_model(filenames):\n",
    "    \"\"\" parse files with models for naive bayes\n",
    "    \"\"\"\n",
    "    model = defaultdict(lambda: defaultdict(float))\n",
    "    for filename in filenames:\n",
    "        with open(filename) as inf:\n",
    "            for line in inf:\n",
    "                word, values = line.split(maxsplit=1)\n",
    "                word = eval(word)\n",
    "                values = eval(values)\n",
    "                model[word] = values\n",
    "    return model"
   ]
  },
  {
   "cell_type": "code",
   "execution_count": 13,
   "metadata": {},
   "outputs": [],
   "source": [
    "blogposts_model = load_model(filenames)"
   ]
  },
  {
   "cell_type": "code",
   "execution_count": 43,
   "metadata": {},
   "outputs": [
    {
     "data": {
      "text/plain": [
       "{'female': 0.000630445094236531, 'male': 0.0002960331557134399}"
      ]
     },
     "execution_count": 43,
     "metadata": {},
     "output_type": "execute_result"
    }
   ],
   "source": [
    "# check the probabilities for each class\n",
    "blogposts_model['yes']"
   ]
  },
  {
   "cell_type": "markdown",
   "metadata": {},
   "source": [
    "The product of conditional probabilities is a very small number. So, we should  calculate sum of logarithms (use the log space) to avoid underflow error. Logarithm of a number < 2 is a negative number. \n",
    "\n",
    "Also: $a, b < 2$ and $a < b$, => $log(a) < log(b)$. \n",
    "\n",
    "Thus, the gender with greater log probability will be the answer."
   ]
  },
  {
   "cell_type": "code",
   "execution_count": 44,
   "metadata": {},
   "outputs": [],
   "source": [
    "def nb_predict(model, document):\n",
    "    \"\"\" predict gender for document\n",
    "    \"\"\"\n",
    "    probabilities = defaultdict(lambda : 1)\n",
    "    words = word_search_re.findall(document)\n",
    "    for word in set(words):\n",
    "        probabilities['male'] += np.log(model[word].get('male', 1e-15))\n",
    "        probabilities['female'] += np.log(model[word].get('female', 1e-15))\n",
    "    likely_genders = sorted(probabilities.items(), key=itemgetter(1), reverse=True)\n",
    "    return likely_genders[0][0]"
   ]
  },
  {
   "cell_type": "markdown",
   "metadata": {},
   "source": [
    "Copy post from the dataset for *male* to try prediction."
   ]
  },
  {
   "cell_type": "code",
   "execution_count": 60,
   "metadata": {},
   "outputs": [],
   "source": [
    "def test_nb(model, filename):\n",
    "    \"\"\" predict gender for each post in file\n",
    "        returns: read_gender and predicted one\n",
    "    \"\"\"\n",
    "    with open(filename) as inf:\n",
    "        for line in inf:\n",
    "            tokens = line.split()\n",
    "            real_gender = eval(tokens[0])\n",
    "            blog_post = eval(\" \".join(tokens[1:]))\n",
    "            yield real_gender, nb_predict(model, blog_post)"
   ]
  },
  {
   "cell_type": "markdown",
   "metadata": {},
   "source": [
    "Check accuracy for file with blogposts from training set."
   ]
  },
  {
   "cell_type": "code",
   "execution_count": 69,
   "metadata": {},
   "outputs": [],
   "source": [
    "result_list = list(test_nb(blogposts_model, './blogposts/part-00010'))"
   ]
  },
  {
   "cell_type": "code",
   "execution_count": 81,
   "metadata": {},
   "outputs": [
    {
     "name": "stdout",
     "output_type": "stream",
     "text": [
      "Accuracy: 0.921875\n"
     ]
    }
   ],
   "source": [
    "right_answers = 0\n",
    "for pair in result_list:\n",
    "    if pair[0] == pair[1]:\n",
    "        right_answers += 1\n",
    "\n",
    "print(\"Accuracy:\", right_answers / len(result_list))"
   ]
  },
  {
   "cell_type": "markdown",
   "metadata": {},
   "source": [
    "Make training and testing sets."
   ]
  },
  {
   "cell_type": "code",
   "execution_count": 54,
   "metadata": {},
   "outputs": [],
   "source": [
    "try:\n",
    "    os.mkdir('./blogs_train')\n",
    "except:\n",
    "    pass\n",
    "try:\n",
    "    os.mkdir('./blogs_test')\n",
    "except:\n",
    "    pass"
   ]
  },
  {
   "cell_type": "markdown",
   "metadata": {},
   "source": [
    "Training data: posts starting from '4' and '8'\n",
    "\n",
    "Testing data: posts starting from '6' and '7'"
   ]
  },
  {
   "cell_type": "code",
   "execution_count": 58,
   "metadata": {},
   "outputs": [],
   "source": [
    "data_dir = './data/data/'\n",
    "train_dir = './blogs_train'\n",
    "test_dir = './blogs_test'\n",
    "for file in os.listdir(data_dir):\n",
    "    if file[0] == '4' or file[0] == '8':\n",
    "        shutil.copy2(data_dir + file, train_dir)\n",
    "    elif file[0] == '6' or file[0] == '7':\n",
    "        shutil.copy2(data_dir + file, test_dir)"
   ]
  },
  {
   "cell_type": "code",
   "execution_count": null,
   "metadata": {},
   "outputs": [],
   "source": []
  }
 ],
 "metadata": {
  "kernelspec": {
   "display_name": "Python 3",
   "language": "python",
   "name": "python3"
  },
  "language_info": {
   "codemirror_mode": {
    "name": "ipython",
    "version": 3
   },
   "file_extension": ".py",
   "mimetype": "text/x-python",
   "name": "python",
   "nbconvert_exporter": "python",
   "pygments_lexer": "ipython3",
   "version": "3.6.4"
  }
 },
 "nbformat": 4,
 "nbformat_minor": 2
}
